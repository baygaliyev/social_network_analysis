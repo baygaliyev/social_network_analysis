{
 "cells": [
  {
   "cell_type": "code",
   "execution_count": 1,
   "metadata": {},
   "outputs": [],
   "source": [
    "# libraries\n",
    "%matplotlib inline\n",
    "import linkpred\n",
    "import matplotlib.pyplot as plt\n",
    "import networkx as nx\n",
    "import random\n",
    "from random import randint"
   ]
  },
  {
   "cell_type": "code",
   "execution_count": 2,
   "metadata": {},
   "outputs": [],
   "source": [
    "def removeedge(G):\n",
    "    # list for removed edges\n",
    "    rem_edges = []   \n",
    "    \n",
    "    for edge in G.edges():\n",
    "        # test set consisnts of 20% of edges; removing randomly\n",
    "        if random.random() < 0.2: \n",
    "            rem_edges.append(edge) \n",
    "            \n",
    "    # remove an edge in initial graph        \n",
    "    for i in rem_edges:\n",
    "        G.remove_edge(i[0],i[1])\n",
    "    # return a list of removed edges    \n",
    "    return rem_edges"
   ]
  },
  {
   "cell_type": "code",
   "execution_count": 3,
   "metadata": {},
   "outputs": [
    {
     "name": "stdout",
     "output_type": "stream",
     "text": [
      "Name: \n",
      "Type: Graph\n",
      "Number of nodes: 6972\n",
      "Number of edges: 109426\n",
      "Average degree:  31.3901\n"
     ]
    }
   ],
   "source": [
    "# reading the file\n",
    "g = nx.read_edgelist(\"F:\\\\Study\\\\Spring19\\\\Network\\\\project\\\\sna_li.csv\", delimiter=\",\", nodetype=int)\n",
    "\n",
    "# basic information\n",
    "info = nx.info(g)\n",
    "print (info)"
   ]
  },
  {
   "cell_type": "code",
   "execution_count": 5,
   "metadata": {},
   "outputs": [],
   "source": [
    "# addition of nodes without edges from initial dataset\n",
    "#for i in range(0, 10001):\n",
    "#    if i not in g.nodes():\n",
    "#        g.add_node(i)"
   ]
  },
  {
   "cell_type": "code",
   "execution_count": 4,
   "metadata": {},
   "outputs": [],
   "source": [
    "# creation of removed edges\n",
    "remove = removeedge(g)"
   ]
  },
  {
   "cell_type": "code",
   "execution_count": 5,
   "metadata": {},
   "outputs": [
    {
     "name": "stdout",
     "output_type": "stream",
     "text": [
      "Name: \n",
      "Type: Graph\n",
      "Number of nodes: 6972\n",
      "Number of edges: 87649\n",
      "Average degree:  25.1431\n"
     ]
    }
   ],
   "source": [
    "# basic information II\n",
    "info = nx.info(g)\n",
    "print (info)"
   ]
  },
  {
   "cell_type": "code",
   "execution_count": 6,
   "metadata": {},
   "outputs": [
    {
     "name": "stdout",
     "output_type": "stream",
     "text": [
      "21777 edges were removed\n"
     ]
    }
   ],
   "source": [
    "# length of list with removed edges\n",
    "print(len(remove), 'edges were removed')"
   ]
  },
  {
   "cell_type": "code",
   "execution_count": 7,
   "metadata": {},
   "outputs": [],
   "source": [
    "# for evaluation purposes\n",
    "test_set = set(linkpred.evaluation.Pair(u, v) for u, v in remove)"
   ]
  },
  {
   "cell_type": "markdown",
   "metadata": {},
   "source": [
    "Neighborhood measures "
   ]
  },
  {
   "cell_type": "code",
   "execution_count": 13,
   "metadata": {},
   "outputs": [
    {
     "name": "stdout",
     "output_type": "stream",
     "text": [
      "Accuracy:  74.95346620057202\n",
      "16510 correctly predicted\n"
     ]
    }
   ],
   "source": [
    "#Common Neighbours\n",
    "\n",
    "# We aim to predict only new links, thus we exclude existing ones\n",
    "cn = linkpred.predictors.CommonNeighbours(g, excluded=g.edges())\n",
    "cn_results = cn.predict()\n",
    "\n",
    "# Computation of accuracy\n",
    "cor = 0\n",
    "l = len(remove)\n",
    "#    .top(2) --> returns the top 2 predicted links based on score\n",
    "ctop = cn_results.top(len(remove)) \n",
    "for i in ctop:\n",
    "    if i in remove:\n",
    "        cor = cor + 1\n",
    "print (\"Accuracy: \", cor * 100 / l)\n",
    "print (cor, 'correctly predicted')"
   ]
  },
  {
   "cell_type": "code",
   "execution_count": 14,
   "metadata": {},
   "outputs": [
    {
     "data": {
      "text/plain": [
       "[<matplotlib.lines.Line2D at 0x239fba0fe48>]"
      ]
     },
     "execution_count": 14,
     "metadata": {},
     "output_type": "execute_result"
    },
    {
     "data": {
      "image/png": "[encoded data removed]",
      "text/plain": [
       "<Figure size 432x288 with 1 Axes>"
      ]
     },
     "metadata": {
      "needs_background": "light"
     },
     "output_type": "display_data"
    }
   ],
   "source": [
    "# visualisation of prediction\n",
    "evaluation = linkpred.evaluation.EvaluationSheet(cn_results, test_set)\n",
    "plt.title(\"Common Neighbours\")\n",
    "plt.xlabel(\"Recall\")\n",
    "plt.ylabel(\"Precision\")\n",
    "plt.plot(evaluation.recall(), evaluation.precision())"
   ]
  },
  {
   "cell_type": "code",
   "execution_count": 15,
   "metadata": {},
   "outputs": [
    {
     "name": "stdout",
     "output_type": "stream",
     "text": [
      "Accuracy:  82.88464157624733\n",
      "18257 correctly predicted\n"
     ]
    }
   ],
   "source": [
    "#Jaccard\n",
    "jc = linkpred.predictors.Jaccard(g, excluded=g.edges())\n",
    "jc_results = jc.predict()\n",
    "\n",
    "# Computation of accuracy\n",
    "cor = 0\n",
    "l = len(remove)\n",
    "#    .top(2) --> returns the top 2 predicted links based on score\n",
    "jctop = jc_results.top(len(remove)) \n",
    "for i in jctop:\n",
    "    if i in remove:\n",
    "        cor = cor + 1\n",
    "print (\"Accuracy: \", cor * 100 / l)\n",
    "print (cor, 'correctly predicted')"
   ]
  },
  {
   "cell_type": "code",
   "execution_count": 1,
   "metadata": {},
   "outputs": [
    {
     "ename": "NameError",
     "evalue": "name 'linkpred' is not defined",
     "output_type": "error",
     "traceback": [
      "\u001b[1;31m---------------------------------------------------------------------------\u001b[0m",
      "\u001b[1;31mNameError\u001b[0m                                 Traceback (most recent call last)",
      "\u001b[1;32m<ipython-input-1-047a4e4fe69b>\u001b[0m in \u001b[0;36m<module>\u001b[1;34m()\u001b[0m\n\u001b[1;32m----> 1\u001b[1;33m \u001b[0mevaluation\u001b[0m \u001b[1;33m=\u001b[0m \u001b[0mlinkpred\u001b[0m\u001b[1;33m.\u001b[0m\u001b[0mevaluation\u001b[0m\u001b[1;33m.\u001b[0m\u001b[0mEvaluationSheet\u001b[0m\u001b[1;33m(\u001b[0m\u001b[0mjc_results\u001b[0m\u001b[1;33m,\u001b[0m \u001b[0mtest_set\u001b[0m\u001b[1;33m)\u001b[0m\u001b[1;33m\u001b[0m\u001b[0m\n\u001b[0m\u001b[0;32m      2\u001b[0m \u001b[0mplt\u001b[0m\u001b[1;33m.\u001b[0m\u001b[0mtitle\u001b[0m\u001b[1;33m(\u001b[0m\u001b[1;34m\"Jaccard\"\u001b[0m\u001b[1;33m)\u001b[0m\u001b[1;33m\u001b[0m\u001b[0m\n\u001b[0;32m      3\u001b[0m \u001b[0mplt\u001b[0m\u001b[1;33m.\u001b[0m\u001b[0mxlabel\u001b[0m\u001b[1;33m(\u001b[0m\u001b[1;34m\"Recall\"\u001b[0m\u001b[1;33m)\u001b[0m\u001b[1;33m\u001b[0m\u001b[0m\n\u001b[0;32m      4\u001b[0m \u001b[0mplt\u001b[0m\u001b[1;33m.\u001b[0m\u001b[0mylabel\u001b[0m\u001b[1;33m(\u001b[0m\u001b[1;34m\"Precision\"\u001b[0m\u001b[1;33m)\u001b[0m\u001b[1;33m\u001b[0m\u001b[0m\n\u001b[0;32m      5\u001b[0m \u001b[0mplt\u001b[0m\u001b[1;33m.\u001b[0m\u001b[0mplot\u001b[0m\u001b[1;33m(\u001b[0m\u001b[0mevaluation\u001b[0m\u001b[1;33m.\u001b[0m\u001b[0mrecall\u001b[0m\u001b[1;33m(\u001b[0m\u001b[1;33m)\u001b[0m\u001b[1;33m,\u001b[0m \u001b[0mevaluation\u001b[0m\u001b[1;33m.\u001b[0m\u001b[0mprecision\u001b[0m\u001b[1;33m(\u001b[0m\u001b[1;33m)\u001b[0m\u001b[1;33m,\u001b[0m\u001b[1;34m'.'\u001b[0m\u001b[1;33m)\u001b[0m\u001b[1;33m\u001b[0m\u001b[0m\n",
      "\u001b[1;31mNameError\u001b[0m: name 'linkpred' is not defined"
     ]
    }
   ],
   "source": [
    "evaluation = linkpred.evaluation.EvaluationSheet(jc_results, test_set)\n",
    "plt.title(\"Jaccard\")\n",
    "plt.xlabel(\"Recall\")\n",
    "plt.ylabel(\"Precision\")\n",
    "plt.plot(evaluation.recall(), evaluation.precision(),'.')"
   ]
  },
  {
   "cell_type": "code",
   "execution_count": 17,
   "metadata": {},
   "outputs": [
    {
     "name": "stdout",
     "output_type": "stream",
     "text": [
      "Accuracy:  81.3229218686158\n",
      "17913 correctly predicted\n"
     ]
    }
   ],
   "source": [
    "#Adamic Adar\n",
    "aa = linkpred.predictors.AdamicAdar(g, excluded=g.edges())\n",
    "aa_results = aa.predict()\n",
    "\n",
    "# Computation of accuracy\n",
    "cor = 0\n",
    "l = len(remove)\n",
    "#    .top(2) --> returns the top 2 predicted links based on score\n",
    "aatop = aa_results.top(len(remove)) \n",
    "for i in aatop:\n",
    "    if i in remove:\n",
    "        cor = cor + 1\n",
    "print (\"Accuracy: \", cor * 100 / l)\n",
    "print (cor, 'correctly predicted')"
   ]
  },
  {
   "cell_type": "code",
   "execution_count": 18,
   "metadata": {},
   "outputs": [
    {
     "data": {
      "text/plain": [
       "[<matplotlib.lines.Line2D at 0x23990140ac8>]"
      ]
     },
     "execution_count": 18,
     "metadata": {},
     "output_type": "execute_result"
    },
    {
     "data": {
      "image/png": "[encoded data removed]",
      "text/plain": [
       "<Figure size 432x288 with 1 Axes>"
      ]
     },
     "metadata": {
      "needs_background": "light"
     },
     "output_type": "display_data"
    }
   ],
   "source": [
    "evaluation = linkpred.evaluation.EvaluationSheet(aa_results, test_set)\n",
    "plt.title(\"Adamic Adar\")\n",
    "plt.xlabel(\"Recall\")\n",
    "plt.ylabel(\"Precision\")\n",
    "plt.plot(evaluation.recall(), evaluation.precision())"
   ]
  },
  {
   "cell_type": "markdown",
   "metadata": {},
   "source": [
    "Path-based measures"
   ]
  },
  {
   "cell_type": "code",
   "execution_count": 19,
   "metadata": {},
   "outputs": [
    {
     "name": "stdout",
     "output_type": "stream",
     "text": [
      "Computing matrix powers: [############################################################] 5/5\n",
      "Accuracy:  71.70291006492033\n",
      "15794 correctly predicted\n"
     ]
    }
   ],
   "source": [
    "#Katz\n",
    "ka = linkpred.predictors.Katz(g, excluded=g.edges()) \n",
    "ka_results = ka.predict()\n",
    "\n",
    "# Computation of accuracy\n",
    "cor = 0\n",
    "l = len(remove)\n",
    "#    .top(2) --> returns the top 2 predicted links based on score\n",
    "ktop = ka_results.top(len(remove)) \n",
    "for i in ktop:\n",
    "    if i in remove:\n",
    "        cor = cor + 1\n",
    "print (\"Accuracy: \", cor * 100 / l)\n",
    "print (cor, 'correctly predicted')"
   ]
  },
  {
   "cell_type": "code",
   "execution_count": 20,
   "metadata": {},
   "outputs": [
    {
     "data": {
      "text/plain": [
       "[<matplotlib.lines.Line2D at 0x239ac137e80>]"
      ]
     },
     "execution_count": 20,
     "metadata": {},
     "output_type": "execute_result"
    },
    {
     "data": {
      "image/png": "[encoded data removed]",
      "text/plain": [
       "<Figure size 432x288 with 1 Axes>"
      ]
     },
     "metadata": {
      "needs_background": "light"
     },
     "output_type": "display_data"
    }
   ],
   "source": [
    "evaluation = linkpred.evaluation.EvaluationSheet(ka_results, test_set)\n",
    "plt.title(\"Katz\")\n",
    "plt.xlabel(\"Recall\")\n",
    "plt.ylabel(\"Precision\")\n",
    "plt.plot(evaluation.recall(), evaluation.precision(), 'g')"
   ]
  },
  {
   "cell_type": "markdown",
   "metadata": {},
   "source": [
    "Ranking"
   ]
  },
  {
   "cell_type": "code",
   "execution_count": 8,
   "metadata": {},
   "outputs": [
    {
     "name": "stdout",
     "output_type": "stream",
     "text": [
      "Accuracy:  47.802727648436424\n",
      "10410 correctly predicted\n"
     ]
    }
   ],
   "source": [
    "simrank = linkpred.predictors.SimRank(g, excluded=g.edges())\n",
    "sr_results = simrank.predict(c=0.5)\n",
    "\n",
    "# Computation of accuracy\n",
    "cor = 0\n",
    "l = len(remove)\n",
    "#    .top(2) --> returns the top 2 predicted links based on score\n",
    "srtop = sr_results.top(len(remove)) \n",
    "for i in srtop:\n",
    "    if i in remove:\n",
    "        cor = cor + 1\n",
    "print (\"Accuracy: \", cor * 100 / l)\n",
    "print (cor, 'correctly predicted')"
   ]
  },
  {
   "cell_type": "code",
   "execution_count": null,
   "metadata": {},
   "outputs": [],
   "source": [
    "evaluation = linkpred.evaluation.EvaluationSheet(sr_results, test_set)\n",
    "plt.title(\"SimRank\")\n",
    "plt.xlabel(\"Recall\")\n",
    "plt.ylabel(\"Precision\")\n",
    "plt.plot(evaluation.recall(), evaluation.precision(), 'r')"
   ]
  },
  {
   "cell_type": "code",
   "execution_count": null,
   "metadata": {},
   "outputs": [],
   "source": []
  },
  {
   "cell_type": "code",
   "execution_count": null,
   "metadata": {},
   "outputs": [],
   "source": []
  },
  {
   "cell_type": "code",
   "execution_count": null,
   "metadata": {},
   "outputs": [],
   "source": []
  },
  {
   "cell_type": "code",
   "execution_count": null,
   "metadata": {},
   "outputs": [],
   "source": []
  }
 ],
 "metadata": {
  "kernelspec": {
   "display_name": "Python 3",
   "language": "python",
   "name": "python3"
  },
  "language_info": {
   "codemirror_mode": {
    "name": "ipython",
    "version": 3
   },
   "file_extension": ".py",
   "mimetype": "text/x-python",
   "name": "python",
   "nbconvert_exporter": "python",
   "pygments_lexer": "ipython3",
   "version": "3.7.0"
  }
 },
 "nbformat": 4,
 "nbformat_minor": 2
}
